{
 "cells": [
  {
   "cell_type": "code",
   "execution_count": 5,
   "id": "8eaccd32-d676-4ff9-996b-7bce21f50b17",
   "metadata": {},
   "outputs": [],
   "source": [
    "#Q2. Write a Python Program to find the squares of all the numbers in the given list of integers using\n",
    "#lambda and map functions.\n",
    "list_=[1, 2, 3, 4, 5, 6, 7, 8, 9, 10]\n",
    "a=list(map(lambda x: x**2,list_))"
   ]
  },
  {
   "cell_type": "code",
   "execution_count": 6,
   "id": "c77b5ab3-039d-4dbc-8ec8-7d2cdd1c39ea",
   "metadata": {},
   "outputs": [
    {
     "data": {
      "text/plain": [
       "[1, 4, 9, 16, 25, 36, 49, 64, 81, 100]"
      ]
     },
     "execution_count": 6,
     "metadata": {},
     "output_type": "execute_result"
    }
   ],
   "source": [
    "a"
   ]
  },
  {
   "cell_type": "code",
   "execution_count": 13,
   "id": "784ff41e-e5d2-4289-af27-9da947c9143f",
   "metadata": {},
   "outputs": [],
   "source": [
    "#Q3. Write a python program to convert the given list of integers into a tuple of strings. Use map and\n",
    "#lambda functions\n",
    "Given_String= [1, 2, 3, 4, 5, 6, 7, 8, 9, 10]\n",
    "Expected_output= ('1', '2', '3', '4', '5', '6', '7', '8', '9', '10')\n",
    "b=tuple(map(lambda x,y:(x,y),Given_String,Expected_output))\n"
   ]
  },
  {
   "cell_type": "code",
   "execution_count": 11,
   "id": "bbfc026d-5d73-4c5c-9843-9eedf82da2a2",
   "metadata": {},
   "outputs": [
    {
     "data": {
      "text/plain": [
       "((1, '1'),\n",
       " (2, '2'),\n",
       " (3, '3'),\n",
       " (4, '4'),\n",
       " (5, '5'),\n",
       " (6, '6'),\n",
       " (7, '7'),\n",
       " (8, '8'),\n",
       " (9, '9'),\n",
       " (10, '10'))"
      ]
     },
     "execution_count": 11,
     "metadata": {},
     "output_type": "execute_result"
    }
   ],
   "source": [
    "b"
   ]
  },
  {
   "cell_type": "code",
   "execution_count": 19,
   "id": "04217cc8-095d-4e1a-bff0-c5fe91653edc",
   "metadata": {},
   "outputs": [],
   "source": [
    "#Q4. Write a python program using reduce function to compute the product of a list containing numbers\n",
    "#from 1 to 25.\n",
    "list_=list(range(1,26))"
   ]
  },
  {
   "cell_type": "code",
   "execution_count": 22,
   "id": "dfc3d35d-85aa-46ad-a275-12fae172a0ea",
   "metadata": {},
   "outputs": [],
   "source": [
    "from functools import reduce\n",
    "a=reduce(lambda x,y:x+y,list_)"
   ]
  },
  {
   "cell_type": "code",
   "execution_count": 23,
   "id": "b1c510a8-0b0a-4dcd-8777-768f02298672",
   "metadata": {},
   "outputs": [
    {
     "data": {
      "text/plain": [
       "325"
      ]
     },
     "execution_count": 23,
     "metadata": {},
     "output_type": "execute_result"
    }
   ],
   "source": [
    "a"
   ]
  },
  {
   "cell_type": "code",
   "execution_count": 29,
   "id": "67d5150f-dba1-47ce-8622-e4ff8c4c4f59",
   "metadata": {},
   "outputs": [],
   "source": [
    "#Q5. Write a python program to filter the numbers in a given list that are divisible by 2 and 3 using the\n",
    "#filter function.\n",
    "list_=[2, 3, 6, 9, 27, 60, 90, 120, 55, 46]\n",
    "b = list(filter(lambda x: x if x % 2 == 0 and x % 3 == 0 else None , list_))"
   ]
  },
  {
   "cell_type": "code",
   "execution_count": 30,
   "id": "b1c60913-050c-4790-bb76-a198dd60c1d5",
   "metadata": {},
   "outputs": [
    {
     "data": {
      "text/plain": [
       "[6, 60, 90, 120]"
      ]
     },
     "execution_count": 30,
     "metadata": {},
     "output_type": "execute_result"
    }
   ],
   "source": [
    "b"
   ]
  },
  {
   "cell_type": "code",
   "execution_count": 31,
   "id": "d887e2df-3626-46b8-ab25-965bee81db9f",
   "metadata": {},
   "outputs": [],
   "source": [
    "#Q6. Write a python program to find palindromes in the given list of strings using lambda and filter\n",
    "#function.\n",
    "list_ = ['python', 'php', 'aba', 'radar', 'level']\n",
    "b = list(filter(lambda x: x == x[::-1], list_))"
   ]
  },
  {
   "cell_type": "code",
   "execution_count": 32,
   "id": "b200ba0f-df7f-45fe-859f-bde4f1fefd28",
   "metadata": {},
   "outputs": [
    {
     "data": {
      "text/plain": [
       "['php', 'aba', 'radar', 'level']"
      ]
     },
     "execution_count": 32,
     "metadata": {},
     "output_type": "execute_result"
    }
   ],
   "source": [
    "b"
   ]
  },
  {
   "cell_type": "code",
   "execution_count": 33,
   "id": "7a576390-734c-40c1-b3c4-612ce9de7b57",
   "metadata": {},
   "outputs": [],
   "source": [
    "list_ = ['python', 'php', 'aba', 'radar', 'level']\n",
    "b = list(filter(lambda x: x != x[::-1], list_))"
   ]
  },
  {
   "cell_type": "code",
   "execution_count": 34,
   "id": "c0b29e49-dd75-4531-b00a-abad8ca2b8cd",
   "metadata": {},
   "outputs": [
    {
     "data": {
      "text/plain": [
       "['python']"
      ]
     },
     "execution_count": 34,
     "metadata": {},
     "output_type": "execute_result"
    }
   ],
   "source": [
    "b"
   ]
  },
  {
   "cell_type": "code",
   "execution_count": 48,
   "id": "c42a2f0e-4ed3-4061-b4b3-0bbf7bd31027",
   "metadata": {},
   "outputs": [],
   "source": [
    "#Q1. Create a python program to sort the given list of tuples based on integer value using a\n",
    "#lambda function.\n",
    "a=[('Sachin Tendulkar', 34357), ('Ricky Ponting', 27483), ('Jack Kallis', 25534), ('Virat Kohli', 24936)]\n",
    "c=sorted(a,key=lambda x:x[1])"
   ]
  },
  {
   "cell_type": "code",
   "execution_count": 49,
   "id": "866f1db5-878d-4b1b-9f4a-a36d43692b1e",
   "metadata": {},
   "outputs": [
    {
     "data": {
      "text/plain": [
       "[('Virat Kohli', 24936),\n",
       " ('Jack Kallis', 25534),\n",
       " ('Ricky Ponting', 27483),\n",
       " ('Sachin Tendulkar', 34357)]"
      ]
     },
     "execution_count": 49,
     "metadata": {},
     "output_type": "execute_result"
    }
   ],
   "source": [
    "c"
   ]
  },
  {
   "cell_type": "code",
   "execution_count": 73,
   "id": "93e06604-da39-4fdd-a42e-9d1aea2504e8",
   "metadata": {},
   "outputs": [],
   "source": [
    "#sorting in dictionary\n",
    "a = {'Sachin Tendulkar': 34357, 'Ricky Ponting': 27483, 'Jack Kallis': 25534, 'Virat Kohli': 24936}\n",
    "b = sorted(a.items(), key=lambda x: x[1])"
   ]
  },
  {
   "cell_type": "code",
   "execution_count": 74,
   "id": "c29cb17f-f83a-4eb4-8aea-afd2b653dabc",
   "metadata": {},
   "outputs": [
    {
     "data": {
      "text/plain": [
       "[('Virat Kohli', 24936),\n",
       " ('Jack Kallis', 25534),\n",
       " ('Ricky Ponting', 27483),\n",
       " ('Sachin Tendulkar', 34357)]"
      ]
     },
     "execution_count": 74,
     "metadata": {},
     "output_type": "execute_result"
    }
   ],
   "source": [
    "b"
   ]
  },
  {
   "cell_type": "code",
   "execution_count": null,
   "id": "f13d82c4-2149-491a-ae93-106e61ef64d0",
   "metadata": {},
   "outputs": [],
   "source": []
  },
  {
   "cell_type": "code",
   "execution_count": null,
   "id": "1d2627fe-6382-4dd9-bac5-feab01e58920",
   "metadata": {},
   "outputs": [],
   "source": []
  }
 ],
 "metadata": {
  "kernelspec": {
   "display_name": "Python 3 (ipykernel)",
   "language": "python",
   "name": "python3"
  },
  "language_info": {
   "codemirror_mode": {
    "name": "ipython",
    "version": 3
   },
   "file_extension": ".py",
   "mimetype": "text/x-python",
   "name": "python",
   "nbconvert_exporter": "python",
   "pygments_lexer": "ipython3",
   "version": "3.10.8"
  }
 },
 "nbformat": 4,
 "nbformat_minor": 5
}
